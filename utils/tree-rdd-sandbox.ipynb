{
 "cells": [
  {
   "cell_type": "code",
   "execution_count": null,
   "metadata": {},
   "outputs": [],
   "source": [
    "from sklearn.linear_model import LogisticRegression\n",
    "import numpy as np\n",
    "import pandas as pd\n",
    "import matplotlib.pyplot as plt\n",
    "import seaborn as sns\n",
    "\n",
    "from llr import compute_llr\n",
    "from sim import gen_fuzzy_rdd, point_plot\n",
    "from tree import RDDTree\n",
    "\n",
    "# generate some data\n",
    "n = 1000\n",
    "df = gen_fuzzy_rdd(n, 0.8, 0.8, 0.2, seed=0)\n",
    "\n",
    "# fit background function\n",
    "lr = LogisticRegression(random_state=0)\n",
    "X = df['x'].values.reshape(-1, 1)\n",
    "lr.fit(X, df['t'])\n",
    "\n",
    "test_X = np.linspace(0,1,100).reshape(-1, 1)\n",
    "preds = lr.predict_proba(test_X)[:, 1]\n",
    "\n",
    "#plot the RDD and the background function\n",
    "scale=100\n",
    "point_plot('x', 't', df, scale, errwidth=0)\n",
    "plt.xlabel(\"Forcing variable\")\n",
    "plt.ylabel(\"Treatment\")\n",
    "disp_X = np.floor(test_X.flatten()*scale)\n",
    "sns.lineplot(disp_X, preds, color='red', label=\"estimated Pr(T)\")\n",
    "plt.legend()\n",
    "plt.show()\n",
    "\n",
    "# check LLR computation\n",
    "all_Ps = lr.predict_proba(X)[:, 1]\n",
    "all_Ts = df['t']\n",
    "cutoffs = np.arange(0.1, 1, 0.1)\n",
    "\n",
    "llrs = []\n",
    "for cutoff in cutoffs:\n",
    "    Gs = (X > cutoff).astype(int).flatten()\n",
    "    llr = compute_llr(all_Ps, all_Ts, Gs)\n",
    "    llrs.append(llr)\n",
    "\n",
    "plt.plot(cutoffs, llrs)\n",
    "plt.title(\"Maximum LLR for each candidate cutoff\")\n",
    "plt.ylabel(\"Max LLR\")\n",
    "plt.xlabel(\"cutoff\")\n",
    "#plt.axhline(y=uncorr_thres, ls='--', color='green', label=\"95% threshold\")\n",
    "#plt.axhline(y=corr_thres, ls='--', color='red', label=\"Bonferroni 95% threshold\")\n",
    "#plt.legend()\n",
    "plt.show()\n",
    "\n",
    "#%% test tree implementation\n",
    "\n",
    "df['Ts'] = all_Ts\n",
    "df['Ps'] = all_Ps"
   ]
  },
  {
   "cell_type": "code",
   "execution_count": null,
   "metadata": {},
   "outputs": [
    {
     "name": "stderr",
     "output_type": "stream",
     "text": [
      "/home/tliu/.conda/envs/py37/lib/python3.7/site-packages/scipy/optimize/minpack.py:162: RuntimeWarning: The iteration is not making good progress, as measured by the \n",
      "  improvement from the last ten iterations.\n",
      "  warnings.warn(msg, RuntimeWarning)\n",
      "/home/tliu/rdd-discovery/utils/llr.py:57: RuntimeWarning: divide by zero encountered in log\n",
      "  - np.log(1-Ps + (mus * Ps))\n",
      "/home/tliu/rdd-discovery/utils/llr.py:57: RuntimeWarning: divide by zero encountered in log\n",
      "  - np.log(1-Ps + (mus * Ps))\n",
      "/home/tliu/rdd-discovery/utils/llr.py:57: RuntimeWarning: divide by zero encountered in log\n",
      "  - np.log(1-Ps + (mus * Ps))\n",
      "/home/tliu/rdd-discovery/utils/llr.py:57: RuntimeWarning: divide by zero encountered in log\n",
      "  - np.log(1-Ps + (mus * Ps))\n",
      "/home/tliu/rdd-discovery/utils/llr.py:57: RuntimeWarning: divide by zero encountered in log\n",
      "  - np.log(1-Ps + (mus * Ps))\n"
     ]
    }
   ],
   "source": [
    "tree = RDDTree(df[['x', 'Ts', 'Ps']], 3, 2, 5)\n",
    "tree.build_tree()"
   ]
  },
  {
   "cell_type": "code",
   "execution_count": null,
   "metadata": {},
   "outputs": [],
   "source": [
    "print(tree.root)"
   ]
  },
  {
   "cell_type": "code",
   "execution_count": null,
   "metadata": {},
   "outputs": [],
   "source": []
  }
 ],
 "metadata": {
  "hide_input": false,
  "kernelspec": {
   "display_name": "Python 3",
   "language": "python",
   "name": "python3"
  },
  "language_info": {
   "codemirror_mode": {
    "name": "ipython",
    "version": 3
   },
   "file_extension": ".py",
   "mimetype": "text/x-python",
   "name": "python",
   "nbconvert_exporter": "python",
   "pygments_lexer": "ipython3",
   "version": "3.7.3"
  }
 },
 "nbformat": 4,
 "nbformat_minor": 2
}
